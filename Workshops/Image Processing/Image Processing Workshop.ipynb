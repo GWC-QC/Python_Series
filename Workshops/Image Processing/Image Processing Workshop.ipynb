{
 "cells": [
  {
   "cell_type": "markdown",
   "metadata": {},
   "source": [
    "# Girls Who Code - The Python Series\n",
    "## Image Processing\n",
    "## Mentor - Amir ElTabakh\n",
    "\n",
    "\n",
    "**Welcome** to the fourth and final Python workshop of the Fall 21 semester! Today we'll learn how to transform and manipulate images as you like! Image processing is a method to perform operations on images to enhance them, extract useful information and even analyze them. Image processing is a subset of Computer Vision, and it has a wide range of applications such as the analysis of medical images, artificial intelligence, image restoration, surveillance, robotic vision, automotive safety and others.\n",
    "\n",
    "`Scikit-image` is an image processing library in Python that is easy to use. The library makes use of Machine Learning with built in functions, and can perfrm complex operations on images with just a few functions. We'll be using it throughout the course.\n",
    "\n",
    "In this workshop we will go over:\n",
    "- The Basics\n",
    "- Image Restoration\n",
    "- Facial Recognition\n",
    "\n",
    "\n",
    "Before we get started, run the following cell to make sure you have all the necessary packages installed."
   ]
  },
  {
   "cell_type": "code",
   "execution_count": null,
   "metadata": {
    "scrolled": true
   },
   "outputs": [],
   "source": [
    "!pip install pillow\n",
    "!pip install scikit-image\n",
    "!pip install numpy\n",
    "!pip install matplotlib"
   ]
  },
  {
   "cell_type": "markdown",
   "metadata": {},
   "source": [
    "## The Basics\n",
    "\n",
    "There are some testing-purpose images provided by `scikit-image`, in a module called `data`. Run the following cell to import an image from the `data` module!"
   ]
  },
  {
   "cell_type": "code",
   "execution_count": null,
   "metadata": {
    "scrolled": true
   },
   "outputs": [],
   "source": [
    "# Import the modules from skimage\n",
    "from skimage import data, color\n",
    "\n",
    "# Load the rocket image\n",
    "rocket = data.rocket()\n",
    "rocket"
   ]
  },
  {
   "cell_type": "code",
   "execution_count": null,
   "metadata": {},
   "outputs": [],
   "source": [
    "# Convert the image to grayscale\n",
    "gray_scaled_rocket = color.rgb2gray(rocket) \n",
    "gray_scaled_rocket"
   ]
  },
  {
   "cell_type": "code",
   "execution_count": null,
   "metadata": {},
   "outputs": [],
   "source": [
    "from matplotlib import pyplot as plt\n",
    "\n",
    "def show_image(image, title = 'Image', cmap_type = 'gray'):\n",
    "    plt.imshow(image, cmap = cmap_type)\n",
    "    plt.title(title)\n",
    "    plt.axis('off')\n",
    "    plt.show()"
   ]
  },
  {
   "cell_type": "code",
   "execution_count": null,
   "metadata": {},
   "outputs": [],
   "source": [
    "# Show the original image\n",
    "show_image(rocket, 'Original RGB image')\n",
    "\n",
    "# Show the grayscale image\n",
    "show_image(gray_scaled_rocket, 'Grayscale image')"
   ]
  },
  {
   "cell_type": "markdown",
   "metadata": {},
   "source": [
    "Now that we know some basic concepts, lets explore some of the things we can do with the NumPy library. We can practice some simple image processing techniques, such as flipping images, extracting features, and analyzing them! Images are represented by numpy ndarray objects. Images can be represented by Numpy multi-dimensional arrays (aka ndarrays). NumPy methods for manipulating arrays work well on these images."
   ]
  },
  {
   "cell_type": "code",
   "execution_count": null,
   "metadata": {},
   "outputs": [],
   "source": [
    "# Find image type\n",
    "type(rocket)"
   ]
  },
  {
   "cell_type": "markdown",
   "metadata": {},
   "source": [
    "A colored image (RGB) is a NumPy array with a third dimension for color channels! We can slice the multidimensional array and obtain these channels separately! Lets load in a picture of Chelsea! She's a cool cat.\n",
    "\n",
    "Then lets obtain the three different color channels for the image of Chelsea and output them."
   ]
  },
  {
   "cell_type": "code",
   "execution_count": null,
   "metadata": {},
   "outputs": [],
   "source": [
    "# Load and show Chelsea the cat\n",
    "chelsea = data.chelsea()\n",
    "show_image(chelsea)"
   ]
  },
  {
   "cell_type": "code",
   "execution_count": null,
   "metadata": {},
   "outputs": [],
   "source": [
    "# Obtaining the red values of the image\n",
    "red = chelsea[:, :, 0]\n",
    "\n",
    "# Obtaining the green values of the image\n",
    "green = chelsea[:, :, 1]\n",
    "\n",
    "# Obtaining the blue values of the image\n",
    "blue = chelsea[:, :, 2]\n",
    "\n",
    "print(f\"Red: \\n{red}\\n\\n Green:\\n{green}\\n\\n Blue:\\n{blue}\")"
   ]
  },
  {
   "cell_type": "code",
   "execution_count": null,
   "metadata": {},
   "outputs": [],
   "source": [
    "show_image(chelsea, 'Original')\n",
    "show_image(red, 'Red Channel')\n",
    "show_image(green, 'Green Channel')\n",
    "show_image(blue, 'Blue Channel')"
   ]
  },
  {
   "cell_type": "markdown",
   "metadata": {},
   "source": [
    "We can observe the different intensities in the tone of the channels! The lighter the color in the individual channel, the more apparent the color is in the original image. We can also get the shape of different images using the `.shape` method. The dimensions are: Height, Width, and Depth. Depth returns the value 3 if the image is RGB.\n",
    "\n",
    "We can also get the size of the image using the `.size` method. This returns the number of pizels there are in the image."
   ]
  },
  {
   "cell_type": "code",
   "execution_count": null,
   "metadata": {},
   "outputs": [],
   "source": [
    "# Get shape of image\n",
    "chelsea.shape"
   ]
  },
  {
   "cell_type": "code",
   "execution_count": null,
   "metadata": {},
   "outputs": [],
   "source": [
    "# Get size of image\n",
    "chelsea.size"
   ]
  },
  {
   "cell_type": "markdown",
   "metadata": {},
   "source": [
    "## Image Restoration\n",
    "\n",
    "Restoring images is a large part of computer vision. With Python its certainly possible to restore a damaged or defected image. Images can get damaged because your laptop got corrupted, or because an image of your grandparents has been scratched and slowly deteriorated with time.\n",
    "\n",
    "Image restoration can be used to not only fix damaged images, but to remove text and logos from images and to remove small objects like tattoos!\n",
    "\n",
    "Reconstructing lost parts of an image is called inpainting, and there is a scikit-image module for it! We can apply inpainting with the inpaint bihormonic function from the restoration module. It needs the location of the damaged pixels to be filled, as a mask on top of the image, in order to work. A mask image is simply an image where some of the pixel intensity values are 0, and others are non-zero (likely 1)."
   ]
  },
  {
   "cell_type": "code",
   "execution_count": null,
   "metadata": {
    "scrolled": true
   },
   "outputs": [],
   "source": [
    "from PIL import Image\n",
    "import numpy as np\n",
    "\n",
    "# File path\n",
    "defect_image = 'Resources\\\\image_with_logo.png'\n",
    "\n",
    "#Load the image\n",
    "image_with_logo = Image.open(defect_image)\n",
    "\n",
    "# Convert the image into a numpy array\n",
    "image_with_logo = np.array(image_with_logo)\n",
    "\n",
    "show_image(image_with_logo)\n",
    "print(image_with_logo)"
   ]
  },
  {
   "cell_type": "code",
   "execution_count": null,
   "metadata": {},
   "outputs": [],
   "source": [
    "from skimage.restoration import inpaint\n",
    "\n",
    "# Initialize the mask\n",
    "mask = np.zeros(image_with_logo.shape[:-1])\n",
    "\n",
    "# Set the pixels where the logo is to 1\n",
    "mask[210:290, 360:425] = 1\n",
    "\n",
    "# Apply inpainting to remove the logo\n",
    "image_logo_removed = inpaint.inpaint_biharmonic(image_with_logo, \n",
    "                                                mask, \n",
    "                                                multichannel=True)\n",
    "\n",
    "# Show the original and logo removed images\n",
    "show_image(image_with_logo, 'Image with logo')\n",
    "show_image(image_logo_removed, 'Image with logo removed')"
   ]
  },
  {
   "cell_type": "markdown",
   "metadata": {},
   "source": [
    "In 2020 a research group at Microsoft published an amazing paper called 'Bringing Old Photos Back to Life'. Using a deep learning approach, they have proposed a way to restore old photos that have suffered from degradation. The first link forwards you to the projects GitHub Repository, and the second one links to a demo of their project for all to use! You can even upload your own images on the Colab demo to restore your very own images!\n",
    "\n",
    "[Github Repository](https://github.com/microsoft/Bringing-Old-Photos-Back-to-Life)\\\n",
    "[Google Colab Demo](https://colab.research.google.com/drive/1NEm6AsybIiC5TwTU_4DqDkQO0nFRB-uA?usp=sharing) "
   ]
  },
  {
   "cell_type": "markdown",
   "metadata": {},
   "source": [
    "## Facial Recognition\n",
    "\n",
    "Over the past few years, facial detection has attracted a lot of attention and caused a great impact on automated processes through artificial vision. Several social network platforms and smart-phones are using face detection to know if there is someone in a picture, and if so, to apply filters, add focus on the face area, or recommend you to tag friends! \n",
    "\n",
    "With scikit-image we can detect faces using a machine learning classifier, with just a couple of lines! We won't be covering machine learning concepts in depth, but it's important to know that we use a cascade of classifiers, which is like using multiple classifiers at once. \n",
    "\n",
    "The coolest piece of technology in the following code (it's all super cool though), is the detector. To apply the detector on images, we need to use the detext_multi_scale method, from the same cascade class. This method searches for the object, in this case a face. It creates a window that will be moving through the image until it finds something similar to a human face. Searching happens on multiple scales. The window will have a minimum size to spot the small or far-away faces, and a maximum size to spot the larger faces in the image. The `scale_factor` parameter can be tuned by the programmer, this parameter determines how large the searching window scales after each search."
   ]
  },
  {
   "cell_type": "code",
   "execution_count": null,
   "metadata": {},
   "outputs": [],
   "source": [
    "from skimage import data\n",
    "from skimage.feature import Cascade\n",
    "\n",
    "import matplotlib.pyplot as plt\n",
    "from matplotlib import patches\n",
    "\n",
    "# Load the trained file from the module root.\n",
    "trained_file = data.lbp_frontal_face_cascade_filename()\n",
    "\n",
    "# Initialize the detector cascade.\n",
    "detector = Cascade(trained_file)\n",
    "\n",
    "img = data.astronaut()\n",
    "\n",
    "detected = detector.detect_multi_scale(img=img,\n",
    "                                       scale_factor=1.2,\n",
    "                                       step_ratio=1,\n",
    "                                       min_size=(60, 60),\n",
    "                                       max_size=(123, 123))\n",
    "\n",
    "plt.imshow(img)\n",
    "img_desc = plt.gca()\n",
    "plt.set_cmap('gray')\n",
    "\n",
    "# Adding rectangle to image\n",
    "for patch in detected:\n",
    "\n",
    "    img_desc.add_patch(\n",
    "        patches.Rectangle(\n",
    "            (patch['c'], patch['r']),\n",
    "            patch['width'],\n",
    "            patch['height'],\n",
    "            fill=False,\n",
    "            color='r',\n",
    "            linewidth=2\n",
    "        )\n",
    "    )\n",
    "\n",
    "plt.show()"
   ]
  },
  {
   "cell_type": "code",
   "execution_count": null,
   "metadata": {
    "scrolled": true
   },
   "outputs": [],
   "source": [
    "# File path\n",
    "animal_crossing = 'Resources\\\\animal_crossing.jpg'\n",
    "\n",
    "#Load the image\n",
    "animal_crossing = Image.open(animal_crossing)\n",
    "\n",
    "# Convert the image into a numpy array\n",
    "animal_crossing = np.array(animal_crossing)\n",
    "\n",
    "show_image(animal_crossing)\n",
    "print(animal_crossing)"
   ]
  },
  {
   "cell_type": "code",
   "execution_count": null,
   "metadata": {},
   "outputs": [],
   "source": [
    "# Load the trained file from the module root.\n",
    "trained_file = data.lbp_frontal_face_cascade_filename()\n",
    "\n",
    "# Initialize the detector cascade.\n",
    "detector = Cascade(trained_file)\n",
    "\n",
    "img = animal_crossing\n",
    "\n",
    "detected = detector.detect_multi_scale(img=img,\n",
    "                                       scale_factor=1.1,\n",
    "                                       step_ratio=1,\n",
    "                                       min_size=(75, 75),\n",
    "                                       max_size=(450, 450))\n",
    "\n",
    "plt.imshow(img)\n",
    "img_desc = plt.gca()\n",
    "plt.set_cmap('gray')\n",
    "\n",
    "# Adding rectangle to image\n",
    "for patch in detected:\n",
    "\n",
    "    img_desc.add_patch(\n",
    "        patches.Rectangle(\n",
    "            (patch['c'], patch['r']),\n",
    "            patch['width'],\n",
    "            patch['height'],\n",
    "            fill=False,\n",
    "            color='r',\n",
    "            linewidth=2\n",
    "        )\n",
    "    )\n",
    "\n",
    "plt.show()"
   ]
  },
  {
   "cell_type": "code",
   "execution_count": null,
   "metadata": {
    "scrolled": true
   },
   "outputs": [],
   "source": [
    "# File path\n",
    "friends = 'Resources\\\\friends.jpg'\n",
    "\n",
    "#Load the image\n",
    "friends = Image.open(friends)\n",
    "\n",
    "# Convert the image into a numpy array\n",
    "friends = np.array(friends)\n",
    "\n",
    "show_image(friends)\n",
    "print(friends)"
   ]
  },
  {
   "cell_type": "code",
   "execution_count": null,
   "metadata": {},
   "outputs": [],
   "source": [
    "# Load the trained file from the module root.\n",
    "trained_file = data.lbp_frontal_face_cascade_filename()\n",
    "\n",
    "# Initialize the detector cascade.\n",
    "detector = Cascade(trained_file)\n",
    "\n",
    "img = friends\n",
    "\n",
    "detected = detector.detect_multi_scale(img=img,\n",
    "                                       scale_factor=1.1,\n",
    "                                       step_ratio=1,\n",
    "                                       min_size=(200, 200),\n",
    "                                       max_size=(450, 450))\n",
    "\n",
    "plt.imshow(img)\n",
    "img_desc = plt.gca()\n",
    "plt.set_cmap('gray')\n",
    "\n",
    "# Adding rectangle to image\n",
    "for patch in detected:\n",
    "\n",
    "    img_desc.add_patch(\n",
    "        patches.Rectangle(\n",
    "            (patch['c'], patch['r']),\n",
    "            patch['width'],\n",
    "            patch['height'],\n",
    "            fill=False,\n",
    "            color='r',\n",
    "            linewidth=2\n",
    "        )\n",
    "    )\n",
    "\n",
    "plt.show()"
   ]
  },
  {
   "cell_type": "code",
   "execution_count": null,
   "metadata": {
    "scrolled": true
   },
   "outputs": [],
   "source": [
    "# File path\n",
    "gwc_image = 'Resources\\\\GWC_image_1.png'\n",
    "\n",
    "#Load the image\n",
    "gwc_image = Image.open(gwc_image)\n",
    "\n",
    "# Convert the image into a numpy array\n",
    "gwc_image = np.array(gwc_image)\n",
    "\n",
    "show_image(gwc_image)\n",
    "print(gwc_image)"
   ]
  },
  {
   "cell_type": "code",
   "execution_count": null,
   "metadata": {},
   "outputs": [],
   "source": [
    "# Load the trained file from the module root.\n",
    "trained_file = data.lbp_frontal_face_cascade_filename()\n",
    "\n",
    "# Initialize the detector cascade.\n",
    "detector = Cascade(trained_file)\n",
    "\n",
    "img = gwc_image\n",
    "\n",
    "detected = detector.detect_multi_scale(img=img,\n",
    "                                       scale_factor=1.1,\n",
    "                                       step_ratio=1,\n",
    "                                       min_size=(250, 250),\n",
    "                                       max_size=(500, 500))\n",
    "\n",
    "plt.imshow(img)\n",
    "img_desc = plt.gca()\n",
    "plt.set_cmap('gray')\n",
    "\n",
    "# Adding rectangle to image\n",
    "for patch in detected:\n",
    "\n",
    "    img_desc.add_patch(\n",
    "        patches.Rectangle(\n",
    "            (patch['c'], patch['r']),\n",
    "            patch['width'],\n",
    "            patch['height'],\n",
    "            fill=False,\n",
    "            color='r',\n",
    "            linewidth=2\n",
    "        )\n",
    "    )\n",
    "\n",
    "plt.show()"
   ]
  },
  {
   "cell_type": "code",
   "execution_count": null,
   "metadata": {
    "scrolled": true
   },
   "outputs": [],
   "source": [
    "# File path\n",
    "gwc_image2 = 'Resources\\\\GWC_image_2.png'\n",
    "\n",
    "#Load the image\n",
    "gwc_image2 = Image.open(gwc_image2)\n",
    "\n",
    "# Convert the image into a numpy array\n",
    "gwc_image2 = np.array(gwc_image2)\n",
    "\n",
    "show_image(gwc_image2)\n",
    "print(gwc_image2)"
   ]
  },
  {
   "cell_type": "code",
   "execution_count": null,
   "metadata": {},
   "outputs": [],
   "source": [
    "# Load the trained file from the module root.\n",
    "trained_file = data.lbp_frontal_face_cascade_filename()\n",
    "\n",
    "# Initialize the detector cascade.\n",
    "detector = Cascade(trained_file)\n",
    "\n",
    "img = gwc_image2\n",
    "\n",
    "detected = detector.detect_multi_scale(img=img,\n",
    "                                       scale_factor=1.1,\n",
    "                                       step_ratio=1,\n",
    "                                       min_size=(20, 20),\n",
    "                                       max_size=(123, 123))\n",
    "\n",
    "plt.imshow(img)\n",
    "img_desc = plt.gca()\n",
    "plt.set_cmap('gray')\n",
    "\n",
    "# Adding rectangle to image\n",
    "for patch in detected:\n",
    "\n",
    "    img_desc.add_patch(\n",
    "        patches.Rectangle(\n",
    "            (patch['c'], patch['r']),\n",
    "            patch['width'],\n",
    "            patch['height'],\n",
    "            fill=False,\n",
    "            color='r',\n",
    "            linewidth=2\n",
    "        )\n",
    "    )\n",
    "\n",
    "plt.show()"
   ]
  }
 ],
 "metadata": {
  "kernelspec": {
   "display_name": "Python 3",
   "language": "python",
   "name": "python3"
  },
  "language_info": {
   "codemirror_mode": {
    "name": "ipython",
    "version": 3
   },
   "file_extension": ".py",
   "mimetype": "text/x-python",
   "name": "python",
   "nbconvert_exporter": "python",
   "pygments_lexer": "ipython3",
   "version": "3.8.5"
  }
 },
 "nbformat": 4,
 "nbformat_minor": 4
}
