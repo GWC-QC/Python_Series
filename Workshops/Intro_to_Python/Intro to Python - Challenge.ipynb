{
 "cells": [
  {
   "cell_type": "markdown",
   "metadata": {},
   "source": [
    "# Girls Who Code - The Python Series\n",
    "## Intro to Python - Workshop Challenge\n",
    "\n",
    "We've gone over the basics, conditionals, loops, lists, and functions, let's put your skills to the test with a few fun challenges! Some are easier (and more fun) than others! Work with your friends, and if you need help be sure to ask around!\n",
    "\n",
    "The answer guide will be posted on GitHub by the next workshop where we'll learn about Python's Pandas library.\n",
    "\n",
    "### Challenge 1: Password Generator"
   ]
  },
  {
   "cell_type": "code",
   "execution_count": null,
   "metadata": {},
   "outputs": [],
   "source": [
    "# Password Generator\n",
    "import random\n",
    "\n",
    "# Generating 3 random Uppercase letters (based on ASCII code)\n",
    "uppercase_letter_1 = chr(random.randint(65,90))\n",
    "uppercase_letter_2 = chr(random.randint(65,90))\n",
    "uppercase_letter_3 = chr(random.randint(65,90))\n",
    "\n",
    "# Generate 3 random Lowercase characters here (based on ASCII code)\n",
    "\n",
    "# Generate 3 random integers\n",
    "\n",
    "\n",
    "# Concatenate all of the characters and numbers \n",
    "password = uppercase_letter_1 + uppercase_letter_2 # + ....\n",
    "\n",
    "#A function do shuffle all the characters of a string\n",
    "def shuffle_password(string):\n",
    "    # Convert the string to a list and save it into a variable called `temp_list`\n",
    "    tempList = # ...\n",
    "    \n",
    "    # Use the `random.shuffle()` method to shuffle the elements in `temp_list`\n",
    "    # ...\n",
    "    \n",
    "    return ''.join(tempList)\n",
    "\n",
    "# Call the shuffle_password function and pass the password as an argument to the password \n",
    "password = # ...\n",
    "\n",
    "#Ouput the password\n",
    "print(password)"
   ]
  },
  {
   "cell_type": "markdown",
   "metadata": {},
   "source": [
    "If you've completed the program good job! It was a little tricky. Now try to optimize the program using lists and for loops."
   ]
  },
  {
   "cell_type": "code",
   "execution_count": null,
   "metadata": {},
   "outputs": [],
   "source": [
    "# Optimized Password Generator\n",
    "# ..."
   ]
  },
  {
   "cell_type": "markdown",
   "metadata": {},
   "source": [
    "## Challenge 2: Display the numbers divisible by 5\n",
    "\n",
    "Use a for loop to iterate over a list of numbers, and append those numbers divisible by 5 into a new list."
   ]
  },
  {
   "cell_type": "code",
   "execution_count": null,
   "metadata": {},
   "outputs": [],
   "source": [
    "# Numbers divisble by 5\n",
    "list_of_nums = [3, 5, 13, 25, 100, 130, 419, 587, 635, 720, 743, 785, 883, 995]\n",
    "\n",
    "# Create empty list called `div_by_five`\n",
    "\n",
    "\n",
    "# Create a for loop to iterate over `list_of_nums`\n",
    "\n",
    "    # Check for divisibility\n",
    "    \n",
    "        # Append the value to the new list if the value is divisible by 5\n",
    "        \n",
    "\n",
    "# Output `div_by_five`\n"
   ]
  },
  {
   "cell_type": "markdown",
   "metadata": {},
   "source": [
    "## Challenge 3: Use Python to create email drafts with Outlook\n",
    "\n",
    "Put your google skills to the test. It's pretty straightforward, and pretty useful when dealing with datasets of contacts. For instance, imagine you have a dataset that contains people's names, emails, and extra metadata about them. Iterating over the columns of contacts and names can allow you to send out mass emails. You can even use a conditional statement to send emails to individuals who satisfy specified conditions. Just build a basic program for now, but keep this in mind for the future. We'll build on this challenge in the Pandas workshop challenge. There are libraries to automate this process with gmail too, its just about exploring whats out there."
   ]
  },
  {
   "cell_type": "code",
   "execution_count": null,
   "metadata": {},
   "outputs": [],
   "source": [
    "# Automating Outlook with Python\n",
    "# ..."
   ]
  },
  {
   "cell_type": "markdown",
   "metadata": {},
   "source": [
    "## Challenge 4: The Fibonacci Sequence\n",
    "\n",
    "My girlfriend loves fractals! Perhaps there really is some underlying order to how the universe works. Write a function called `fibonacci(n)` that outputs the first `n` numbers in the Fibonacci equence. Need a refresher on how the Fibonacci sequence works? Google it!"
   ]
  },
  {
   "cell_type": "code",
   "execution_count": null,
   "metadata": {},
   "outputs": [],
   "source": [
    "# Fibonacci Sequence\n",
    "# ..."
   ]
  },
  {
   "cell_type": "code",
   "execution_count": null,
   "metadata": {},
   "outputs": [],
   "source": [
    "# Python program for Plotting Fibonacci\n",
    "# spiral fractal using Turtle\n",
    "import turtle\n",
    "import math\n",
    "\n",
    "def fiboPlot(n):\n",
    "    a = 0\n",
    "    b = 1\n",
    "    square_a = a\n",
    "    square_b = b\n",
    " \n",
    "    # Setting the colour of the plotting pen to blue\n",
    "    x.pencolor(\"blue\")\n",
    " \n",
    "    # Drawing the first square\n",
    "    x.forward(b * factor)\n",
    "    x.left(90)\n",
    "    x.forward(b * factor)\n",
    "    x.left(90)\n",
    "    x.forward(b * factor)\n",
    "    x.left(90)\n",
    "    x.forward(b * factor)\n",
    " \n",
    "    # Proceeding in the Fibonacci Series\n",
    "    temp = square_b\n",
    "    square_b = square_b + square_a\n",
    "    square_a = temp\n",
    "     \n",
    "    # Drawing the rest of the squares\n",
    "    for i in range(1, n):\n",
    "        x.backward(square_a * factor)\n",
    "        x.right(90)\n",
    "        x.forward(square_b * factor)\n",
    "        x.left(90)\n",
    "        x.forward(square_b * factor)\n",
    "        x.left(90)\n",
    "        x.forward(square_b * factor)\n",
    " \n",
    "        # Proceeding in the Fibonacci Series\n",
    "        temp = square_b\n",
    "        square_b = square_b + square_a\n",
    "        square_a = temp\n",
    " \n",
    "    # Bringing the pen to starting point of the spiral plot\n",
    "    x.penup()\n",
    "    x.setposition(factor, 0)\n",
    "    x.seth(0)\n",
    "    x.pendown()\n",
    " \n",
    "    # Setting the colour of the plotting pen to red\n",
    "    x.pencolor(\"red\")\n",
    " \n",
    "    # Fibonacci Spiral Plot\n",
    "    x.left(90)\n",
    "    for i in range(n):\n",
    "        print(b)\n",
    "        fdwd = math.pi * b * factor / 2\n",
    "        fdwd /= 90\n",
    "        for j in range(90):\n",
    "            x.forward(fdwd)\n",
    "            x.left(1)\n",
    "        temp = a\n",
    "        a = b\n",
    "        b = temp + b\n",
    " \n",
    " \n",
    "# Here 'factor' signifies the multiplicative\n",
    "# factor which expands or shrinks the scale\n",
    "# of the plot by a certain factor.\n",
    "factor = 10\n",
    " \n",
    "# Taking Input for the number of\n",
    "# Iterations our Algorithm will run\n",
    "n = int(input('Enter the number of iterations (must be > 1): '))\n",
    " \n",
    "# Plotting the Fibonacci Spiral Fractal\n",
    "# and printing the corresponding Fibonacci Number\n",
    "if n > 0:\n",
    "    print(\"Fibonacci series for\", n, \"elements :\")\n",
    "    x = turtle.Turtle()\n",
    "    x.speed(100)\n",
    "    fiboPlot(n)\n",
    "    turtle.done()\n",
    "else:\n",
    "    print(\"Number of iterations must be > 0\")"
   ]
  }
 ],
 "metadata": {
  "kernelspec": {
   "display_name": "Python 3",
   "language": "python",
   "name": "python3"
  },
  "language_info": {
   "codemirror_mode": {
    "name": "ipython",
    "version": 3
   },
   "file_extension": ".py",
   "mimetype": "text/x-python",
   "name": "python",
   "nbconvert_exporter": "python",
   "pygments_lexer": "ipython3",
   "version": "3.8.5"
  }
 },
 "nbformat": 4,
 "nbformat_minor": 4
}
