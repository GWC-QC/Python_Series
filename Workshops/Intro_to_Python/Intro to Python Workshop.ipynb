{
 "cells": [
  {
   "cell_type": "markdown",
   "metadata": {},
   "source": [
    "# Girls Who Code - The Python Series\n",
    "## Intro to Python\n",
    "## Mentor - Amir ElTabakh\n",
    "\n",
    "\n",
    "**Welcome** to the first Python workshop of the Fall 21 semester! We have some fun things planned for the semester, but today we'll be honing in on the basics. \n",
    "\n",
    "In this workshop we will go over:\n",
    "- The basics of Python, including operators, data types, assignment, and basic string manipulation\n",
    "- For loops and while loops\n",
    "- Flow control and conditionals\n",
    "- Lists and basic list manipulation\n",
    "- Custom functions\n",
    "\n",
    "Software engineer Tim Peters wrote a collection of 19 guiding principles for writing compter programs in Python. The 20th principle was left \"for Guido to fill in\", referring to Guido van Rossum, the original author of the Python Programming Language. Keep the principles in mind while on your journey into the world of Python programming!\n",
    "\n",
    "Run `import this` in the next cell to read 'The Zen of Python'."
   ]
  },
  {
   "cell_type": "code",
   "execution_count": null,
   "metadata": {},
   "outputs": [],
   "source": [
    "import this"
   ]
  },
  {
   "cell_type": "markdown",
   "metadata": {},
   "source": [
    "## The Basics\n",
    "### print()\n",
    "\n",
    "New programming language, same tradition, lets say hello! To print a line in Python use the `print()` method and pass your string as an argument."
   ]
  },
  {
   "cell_type": "code",
   "execution_count": null,
   "metadata": {},
   "outputs": [],
   "source": [
    "print(\"Hello World!\")"
   ]
  },
  {
   "cell_type": "markdown",
   "metadata": {},
   "source": [
    "How exciting! Congrats, and welcome to the world of Python!\n",
    "\n",
    "Let's talk variables, how do we assign strings, integers, doubles, and booleans? It's a bit simpler than what you may have learned in CS 111 or CS 212. You don't have to define the data type! Python is a dynamically typed language, relative to C++ and Java which are statically typed languages. What are some pros and cons of each?"
   ]
  },
  {
   "cell_type": "code",
   "execution_count": null,
   "metadata": {},
   "outputs": [],
   "source": [
    "my_name = \"Amir ElTabakh\"\n",
    "my_age = 21\n",
    "\n",
    "introduction = \"Greetings! My name is \" + my_name + \", and I am \" + str(my_age) + \".\"\n",
    "print(introduction)"
   ]
  },
  {
   "cell_type": "markdown",
   "metadata": {},
   "source": [
    "Notice, I called the `str()` method on the integer `my_age` to cast the variable as an integer. The interpreter would return an error if I tried to concatenate an integer to a string. \n",
    "\n",
    "Notice the Python standard is to use snake case when naming variables!\n",
    "\n",
    "**Different Cases when Programming**\n",
    "- variable_with_snake_case\n",
    "- variableWithCamelCase\n",
    "- VariableWithPascalCase\n",
    "- variable-with-kebab-case\n",
    "\n",
    "Lets use the `input()` function to let the user type their favorite food. \n",
    "\n",
    "Note: Use a `#` to add a comment to describe whats going on!"
   ]
  },
  {
   "cell_type": "code",
   "execution_count": null,
   "metadata": {},
   "outputs": [],
   "source": [
    "fav_food = input(\"Enter your favorite food: \") # Aquiring user input and saving to variable\n",
    "print(\"My favorite food is \" + fav_food) # outputting string and value of user input"
   ]
  },
  {
   "cell_type": "markdown",
   "metadata": {},
   "source": [
    "In Python you can take the length of a string. A string with 22 characters will have a length of 22. Use the `len()` function on a string to find out its length."
   ]
  },
  {
   "cell_type": "code",
   "execution_count": null,
   "metadata": {},
   "outputs": [],
   "source": [
    "GWC = \"Girls Who Code\"\n",
    "length_of_GWC_string = len(GWC)\n",
    "\n",
    "print(length_of_GWC_string)"
   ]
  },
  {
   "cell_type": "markdown",
   "metadata": {},
   "source": [
    "### Data Types\n",
    "\n",
    "Lets look at the type (or *class*) of different data types."
   ]
  },
  {
   "cell_type": "code",
   "execution_count": null,
   "metadata": {},
   "outputs": [],
   "source": [
    "print(type(4))\n",
    "print(type(4.0))\n",
    "print(type('4'))\n",
    "print(type(4 == 4.0))\n",
    "\n",
    "4 == 4.0 # What does this return?\n",
    "# 4 === 4.0 # What does this return?"
   ]
  },
  {
   "cell_type": "markdown",
   "metadata": {},
   "source": [
    "One can test for equivalence for integers, doubles, and strings! We use the `==` operator to test for equivalence."
   ]
  },
  {
   "cell_type": "code",
   "execution_count": null,
   "metadata": {},
   "outputs": [],
   "source": [
    "# Checking for equivalence between integers\n",
    "print(\"Equivalence between integers:\")\n",
    "print(4 == 5)\n",
    "print(10 == 10)\n",
    "print(\"\\n\") # \\n prints a new line\n",
    "\n",
    "# Checking for equivalence between strings\n",
    "print(\"Equivalence between strings:\")\n",
    "print(\"GWC\" == \"Girls Who Code\")\n",
    "print(\"Girls Who Code\" == \"Girls Who Code\")"
   ]
  },
  {
   "cell_type": "markdown",
   "metadata": {},
   "source": [
    "### Mathematical operations"
   ]
  },
  {
   "cell_type": "code",
   "execution_count": null,
   "metadata": {},
   "outputs": [],
   "source": [
    "4 + 3 # Addition"
   ]
  },
  {
   "cell_type": "code",
   "execution_count": null,
   "metadata": {},
   "outputs": [],
   "source": [
    "4 - 3 # Subraction"
   ]
  },
  {
   "cell_type": "code",
   "execution_count": null,
   "metadata": {},
   "outputs": [],
   "source": [
    "4 * 3 # Multiplication"
   ]
  },
  {
   "cell_type": "code",
   "execution_count": null,
   "metadata": {},
   "outputs": [],
   "source": [
    "4 / 3 # Division"
   ]
  },
  {
   "cell_type": "code",
   "execution_count": null,
   "metadata": {},
   "outputs": [],
   "source": [
    "4 // 3 # Integer division (always rounds to the floor)"
   ]
  },
  {
   "cell_type": "code",
   "execution_count": null,
   "metadata": {},
   "outputs": [],
   "source": [
    "4 % 3 # Modulo"
   ]
  },
  {
   "cell_type": "code",
   "execution_count": null,
   "metadata": {},
   "outputs": [],
   "source": [
    "4 ** 3 # Exponent"
   ]
  },
  {
   "cell_type": "code",
   "execution_count": null,
   "metadata": {},
   "outputs": [],
   "source": [
    "my_second_favorite_number = 4\n",
    "my_second_favorite_number += 1 # Take the value on the left and add it to the value on the right\n",
    "my_second_favorite_number = my_second_favorite_number + 1 # Does the same thing!\n",
    "print(my_second_favorite_number)"
   ]
  },
  {
   "cell_type": "markdown",
   "metadata": {},
   "source": [
    "Lets put together everything we've learned so far!"
   ]
  },
  {
   "cell_type": "code",
   "execution_count": null,
   "metadata": {},
   "outputs": [],
   "source": [
    "# This program says hello and asks for my name.\n",
    "\n",
    "print('What is your name?') # ask for their name\n",
    "my_name = input(\"Enter your name: \") # ask for their name\n",
    "print('It is good to meet you, ' + myName)\n",
    "\n",
    "print('The length of your name is ' + str(len(myName)) + \" characters long!\")\n",
    "\n",
    "print('What is your age?')\n",
    "my_age = input(\"Enter your age: \") # ask for their age\n",
    "print('You will be ' + str(int(myAge) + 1) + ' in a year.')"
   ]
  },
  {
   "cell_type": "markdown",
   "metadata": {},
   "source": [
    "### Casting\n",
    "\n",
    "We've already seen how you can cast an integer value into a string, well you can also cast a string as an integer, or a double! It's sometimes useful to cast strings as integers because you may want to run some mathematical operations on the numbers, and you cannot run mathematical operations on a string!\n",
    "\n",
    "Lets check it out!"
   ]
  },
  {
   "cell_type": "code",
   "execution_count": null,
   "metadata": {},
   "outputs": [],
   "source": [
    "sum_of_strings = '5' + '6'\n",
    "print(sum_of_strings)\n",
    "print(type(sum_of_strings))"
   ]
  },
  {
   "cell_type": "markdown",
   "metadata": {},
   "source": [
    "The interpreter concatenated the strings! Thats not what 5 + 6 is equal to. Lets cast the strings to integers before adding them."
   ]
  },
  {
   "cell_type": "code",
   "execution_count": null,
   "metadata": {},
   "outputs": [],
   "source": [
    "sum_of_ints = int('5') + int('6')\n",
    "print(sum_of_ints)\n",
    "print(type(sum_of_ints))"
   ]
  },
  {
   "cell_type": "markdown",
   "metadata": {},
   "source": [
    "Thats much better.\n",
    "\n",
    "Below we have pi to with 221 decimals as a string. We don't need it to be that long, it just takes up too much space. Let's use the `round()` method to round the number to two decimal points. The `round()` method only work with doubles, so we will have to cast the variable to a double, round, and then convert it back to a string."
   ]
  },
  {
   "cell_type": "code",
   "execution_count": null,
   "metadata": {},
   "outputs": [],
   "source": [
    "pi = \"3.14159265358979323846264338327950288419716939937510582097494459230781640628620899862803482534211706798214808651328230664709384460955058223172535940812848111745028410270193852110555964462294895493038196442881097566593344612\"\n",
    "print(len(pi))\n",
    "\n",
    "pi_double = float(pi)\n",
    "pi_double_rounded = round(pi_double, 3)\n",
    "pi_string_rounded = str(pi_double_rounded)\n",
    "\n",
    "print(pi_string_rounded)"
   ]
  },
  {
   "cell_type": "markdown",
   "metadata": {},
   "source": [
    "## Flow Control\n",
    "\n",
    "Often times we want to do different tasks under different conditions. For instance, if it's raining, we take an umbrella, otherwise we don't. This is called flow control. But before you learn about flow control statements, you first need to learn how to represent those yes and no options, and you need to understand how to write those branching points as Python code. To that end, let’s explore Boolean values, comparison operators, and Boolean operators.\n",
    "\n",
    "### Comparison Operators\n",
    "Comparison operators, also called relational operators, compare two values and evaluate down to a single Boolean value, that is, True or False. As we've seen, you can also use these operators with strings.\n",
    "\n",
    "Note: The difference between the `=` and `==` operators\n",
    "- The == operator (equal to) asks whether two values are the same as each other.\n",
    "- The = operator (assignment) puts the value on the right into the variable on the left."
   ]
  },
  {
   "cell_type": "code",
   "execution_count": null,
   "metadata": {},
   "outputs": [],
   "source": [
    "4 == 6 # tests for equivalence"
   ]
  },
  {
   "cell_type": "code",
   "execution_count": null,
   "metadata": {},
   "outputs": [],
   "source": [
    "4 != 6 # tests if not equivalent"
   ]
  },
  {
   "cell_type": "code",
   "execution_count": null,
   "metadata": {},
   "outputs": [],
   "source": [
    "4 < 6 # less than"
   ]
  },
  {
   "cell_type": "code",
   "execution_count": null,
   "metadata": {},
   "outputs": [],
   "source": [
    "4 <= 6 # less than or equal to"
   ]
  },
  {
   "cell_type": "code",
   "execution_count": null,
   "metadata": {},
   "outputs": [],
   "source": [
    "4 > 6 # greater than"
   ]
  },
  {
   "cell_type": "code",
   "execution_count": null,
   "metadata": {},
   "outputs": [],
   "source": [
    "4 >= 6 # greater than or equal to"
   ]
  },
  {
   "cell_type": "markdown",
   "metadata": {},
   "source": [
    "### Boolean Operators\n",
    "\n",
    "There are three Boolean operators, and, or, and not, that are used to compare Boolean values.\n",
    "\n",
    "- The `and` Boolean operator returns True iff all Boolean values are true\n",
    "- The `or` Boolean operator returns True if at least one Boolean values are true\n",
    "- The `not` Boolean operator returns the opposite of a Boolean value\n",
    "\n",
    "Lets get our hands dirty!"
   ]
  },
  {
   "cell_type": "code",
   "execution_count": null,
   "metadata": {},
   "outputs": [],
   "source": [
    "True"
   ]
  },
  {
   "cell_type": "code",
   "execution_count": null,
   "metadata": {},
   "outputs": [],
   "source": [
    "False"
   ]
  },
  {
   "cell_type": "code",
   "execution_count": null,
   "metadata": {},
   "outputs": [],
   "source": [
    "True and True"
   ]
  },
  {
   "cell_type": "code",
   "execution_count": null,
   "metadata": {},
   "outputs": [],
   "source": [
    "True and False"
   ]
  },
  {
   "cell_type": "code",
   "execution_count": null,
   "metadata": {},
   "outputs": [],
   "source": [
    "False and False"
   ]
  },
  {
   "cell_type": "code",
   "execution_count": null,
   "metadata": {},
   "outputs": [],
   "source": [
    "True or False"
   ]
  },
  {
   "cell_type": "code",
   "execution_count": null,
   "metadata": {},
   "outputs": [],
   "source": [
    "False or False"
   ]
  },
  {
   "cell_type": "code",
   "execution_count": null,
   "metadata": {},
   "outputs": [],
   "source": [
    "not True"
   ]
  },
  {
   "cell_type": "code",
   "execution_count": null,
   "metadata": {},
   "outputs": [],
   "source": [
    "not False"
   ]
  },
  {
   "cell_type": "code",
   "execution_count": null,
   "metadata": {},
   "outputs": [],
   "source": [
    "not not True"
   ]
  },
  {
   "cell_type": "markdown",
   "metadata": {},
   "source": [
    "Lets mix Boolean and comparison operators and see them at work."
   ]
  },
  {
   "cell_type": "code",
   "execution_count": null,
   "metadata": {},
   "outputs": [],
   "source": [
    "(4 < 6) and (10 == '10')"
   ]
  },
  {
   "cell_type": "code",
   "execution_count": null,
   "metadata": {},
   "outputs": [],
   "source": [
    "(4 < 6) or (10 == '10')"
   ]
  },
  {
   "cell_type": "markdown",
   "metadata": {},
   "source": [
    "### If Statements\n",
    "\n",
    "If statements are how you execute a conditional in Python. An if statement has a few aspects to it.\n",
    "\n",
    "- The `if` keyword\n",
    "- A condition that expresses either a True or False value\n",
    "- A colon\n",
    "- The code to execute if the condition is true, which is on the next line and indented"
   ]
  },
  {
   "cell_type": "code",
   "execution_count": null,
   "metadata": {},
   "outputs": [],
   "source": [
    "org_name = \"not GWC\"\n",
    "\n",
    "if org_name == \"GWC\":\n",
    "    print(org_name + \" RULES!\")"
   ]
  },
  {
   "cell_type": "markdown",
   "metadata": {},
   "source": [
    "If the first condition fails, you can add the `else` keyword to execute a different set of instructions. Lets test it out using the same example above."
   ]
  },
  {
   "cell_type": "code",
   "execution_count": null,
   "metadata": {},
   "outputs": [],
   "source": [
    "org_name = \"not GWC\"\n",
    "\n",
    "if org_name == \"GWC\":\n",
    "    print(org_name + \" RULES!\")\n",
    "else:\n",
    "    print(\"OOOPS! Only Girls Who Code Rule\")"
   ]
  },
  {
   "cell_type": "markdown",
   "metadata": {},
   "source": [
    "What if you have many possible clauses to execute, not just two? The `elif` statement (\"else if\") always follows an if statement, or another elif statement. It probides another condition that is only checked if all of the previous conditions were False. Once the interpreter executes a condition that is True, the interpreter then exits the if statement!"
   ]
  },
  {
   "cell_type": "code",
   "execution_count": null,
   "metadata": {},
   "outputs": [],
   "source": [
    "print(\"Hi! Are you Alice from Wonderland?\")\n",
    "\n",
    "name = input(\"Enter name: \")\n",
    "age = int(input(\"Enter age: \"))\n",
    "\n",
    "if name == 'Alice':\n",
    "    print('Hi, Alice.')\n",
    "elif age < 12:\n",
    "    print('You are not Alice, kiddo.')\n",
    "elif age > 2000:\n",
    "    print('Unlike you, Alice is not an undead, immortal vampire.')\n",
    "elif age > 100:\n",
    "    print('You are not Alice, grannie.')\n",
    "else:\n",
    "    print(\"You look a lot like my friend Alice. It might be the blue dress!\")"
   ]
  },
  {
   "cell_type": "markdown",
   "metadata": {},
   "source": [
    "## Loops\n",
    "\n",
    "### While Loops\n",
    "\n",
    "You can make a block of code execute repeatedly using a `while` statement. As long as the condition is `True`, the loop will run, otherwise the interpreter exits the loop. A `while` loops consists of the following:\n",
    "\n",
    "- The `while` keyword\n",
    "- A condition that expresses either a True or False value\n",
    "- A colon\n",
    "- The code to execute if the condition is true, which is on the next line and indented (called the while clause)"
   ]
  },
  {
   "cell_type": "code",
   "execution_count": null,
   "metadata": {},
   "outputs": [],
   "source": [
    "number_of_blueberries_in_mouth = 0\n",
    "\n",
    "while number_of_blueberries_in_mouth < 10:\n",
    "    print(\"I'll pop another blueberry\")\n",
    "    number_of_blueberries_in_mouth += 1\n",
    "    \n",
    "print(\"Eh... only \" + str(number_of_blueberries_in_mouth) + \" blueberries. I should get some more.\")"
   ]
  },
  {
   "cell_type": "markdown",
   "metadata": {},
   "source": [
    "You don't have to wait for the condition to return a `False` value to exit the loop. You can use the `break` keyword to break out of the while loops clause early. Use an if statement to execute the `break`."
   ]
  },
  {
   "cell_type": "code",
   "execution_count": null,
   "metadata": {},
   "outputs": [],
   "source": [
    "number_of_blueberries_in_mouth = 0\n",
    "\n",
    "while number_of_blueberries_in_mouth < 100:\n",
    "    print(\"I'll pop another blueberry\")\n",
    "    number_of_blueberries_in_mouth += 1\n",
    "    \n",
    "    if number_of_blueberries_in_mouth > 15:\n",
    "        print(\"Jeez \" + str(number_of_blueberries_in_mouth) + \" blueberries? I need help.\")\n",
    "        break"
   ]
  },
  {
   "cell_type": "markdown",
   "metadata": {},
   "source": [
    "Like `break`, you use `continue` inside a loop. When the program reaches a `continue` statement the interpreter jumps to the start of the while loop.\n",
    "\n",
    "Esteban is currently trying to login to his laptop, lets build a little login program."
   ]
  },
  {
   "cell_type": "code",
   "execution_count": null,
   "metadata": {},
   "outputs": [],
   "source": [
    "while True:\n",
    "    print('Who are you?')\n",
    "    name = input()\n",
    "    if name != 'Esteban Julio Roberto Montoya Dela Rosa Ramirez':\n",
    "        continue\n",
    "    print('Hello, Esteban. What is the password? (Your pet.)')\n",
    "        \n",
    "    password = input()\n",
    "    if password == 'chickens':\n",
    "        break\n",
    "\n",
    "print('Access granted.') "
   ]
  },
  {
   "cell_type": "markdown",
   "metadata": {},
   "source": [
    "We've seen how `while` loops work, and we've experimented with using `if` statements inside of them. We've also explore `break` and `continue` statements. Lets put them to practice with the FizzBuzz challenge.\n",
    "\n",
    "### Breakout Room 1\n",
    "The assignment is simple. Use a `while` loop to loop between two numbers.\n",
    "- If the number is divisible by 3 print 'Fizz'\n",
    "- If the number is divisible by 5 print 'Buzz'\n",
    "- If the number is divisible by 3 and 5 print 'FizzBuzz'\n",
    "- Otherwise print the number\n",
    "\n",
    "Hint: Use the Modulo operator!"
   ]
  },
  {
   "cell_type": "code",
   "execution_count": null,
   "metadata": {},
   "outputs": [],
   "source": [
    "# FizzBuzz Program\n",
    "# ..."
   ]
  },
  {
   "cell_type": "markdown",
   "metadata": {},
   "source": [
    "### For Loops\n",
    "\n",
    "The while loop keeps looping while the condition is `True`, the for loop statement can execute a block of code a specified number of times. For instance, say you have a list of elements that you wish to run the same code on a list, you can use a for loop!\n",
    "\n",
    "A for loop entails:\n",
    "- The `for` keyword\n",
    "- A variable name (arbitrary)\n",
    "- The `in` keyword\n",
    "- A call to the `range()` method\n",
    "- A colon\n",
    "- Starting the next line, and indented block of code (called the `for` clause)\n",
    "\n",
    "The `range()` method must take in one argumeny, but it can take up to three arguments.\n",
    "1. A start argument (default is 0)\n",
    "2. An end argument (must be passed)\n",
    "3. The step argument (default is 1)"
   ]
  },
  {
   "cell_type": "code",
   "execution_count": null,
   "metadata": {},
   "outputs": [],
   "source": [
    "# Simple for loop to iterate over the numbers 0 - 5, excluding 5\n",
    "for i in range(5):\n",
    "    print(i)"
   ]
  },
  {
   "cell_type": "code",
   "execution_count": null,
   "metadata": {},
   "outputs": [],
   "source": [
    "# A for loop to iterate over the numbers between 4 and 10, excluding 10\n",
    "sum_of_nums = 0\n",
    "for i in range(4, 10):\n",
    "    sum_of_nums += i\n",
    "    print(sum_of_nums)"
   ]
  },
  {
   "cell_type": "code",
   "execution_count": null,
   "metadata": {},
   "outputs": [],
   "source": [
    "# A for loop to iterate over the even numbers between 0 and 10, excluding 10\n",
    "sum_of_nums = 0\n",
    "for i in range(0, 10, 2):\n",
    "    sum_of_nums += i\n",
    "    print(sum_of_nums)"
   ]
  },
  {
   "cell_type": "markdown",
   "metadata": {},
   "source": [
    "## Lists\n",
    "\n",
    "A list is a data structure that contains multiple values in an ordered sequence. You can store an element of any data type in a list, and even elements of different data types in the same list. Let's look at a few examples."
   ]
  },
  {
   "cell_type": "code",
   "execution_count": null,
   "metadata": {},
   "outputs": [],
   "source": [
    "list_of_my_favorite_animals = ['Kangaroo', 'Cheetah', 'Giraffe', 'Penguin']\n",
    "list_of_my_favorite_animals"
   ]
  },
  {
   "cell_type": "code",
   "execution_count": null,
   "metadata": {},
   "outputs": [],
   "source": [
    "list_of_numbers = [1, 2, 3, 4]\n",
    "list_of_numbers"
   ]
  },
  {
   "cell_type": "code",
   "execution_count": null,
   "metadata": {},
   "outputs": [],
   "source": [
    "random_list = ['Cats', 7, 'Nike', True]\n",
    "random_list"
   ]
  },
  {
   "cell_type": "markdown",
   "metadata": {},
   "source": [
    "We can extract the value of a list by calling its index. Remember that lists in Python are 0 indexed. Indices can only be integer values, not floats. Python also supports negative indices to get values from the end of the list."
   ]
  },
  {
   "cell_type": "code",
   "execution_count": null,
   "metadata": {},
   "outputs": [],
   "source": [
    "print(\"My favorite animal is the \" + list_of_my_favorite_animals[0] + \".\")\n",
    "print(\"I also really like the \" + list_of_my_favorite_animals[-1] + \".\")"
   ]
  },
  {
   "cell_type": "markdown",
   "metadata": {},
   "source": [
    "Change the value of an element in the list by calling the element via its index and use the assignment operator.\n",
    "You can run mathematical operations on the list as well. You can concatenate lists using the `+` operator, and even multiply the list with the `*` operator.\n",
    "\n",
    "When using the `+` operator, think of it as concatenating two lists together, so remember to use your square brackets!"
   ]
  },
  {
   "cell_type": "code",
   "execution_count": null,
   "metadata": {},
   "outputs": [],
   "source": [
    "list_of_my_favorite_animals[3] = \"Cat\"\n",
    "list_of_my_favorite_animals"
   ]
  },
  {
   "cell_type": "code",
   "execution_count": null,
   "metadata": {},
   "outputs": [],
   "source": [
    "list_of_my_favorite_animals += ['Hawk']\n",
    "list_of_my_favorite_animals"
   ]
  },
  {
   "cell_type": "code",
   "execution_count": null,
   "metadata": {},
   "outputs": [],
   "source": [
    "list_of_my_favorite_animals *= 2\n",
    "list_of_my_favorite_animals"
   ]
  },
  {
   "cell_type": "markdown",
   "metadata": {},
   "source": [
    "Remove an element from the list with the `del` statement. Lets take a look at the `random_list` list we created earlier and remove the last value."
   ]
  },
  {
   "cell_type": "code",
   "execution_count": null,
   "metadata": {},
   "outputs": [],
   "source": [
    "print(random_list)\n",
    "del random_list[-1] # Deleting last element in random_list\n",
    "print(random_list)"
   ]
  },
  {
   "cell_type": "markdown",
   "metadata": {},
   "source": [
    "There's a lot a programmer such as you can do with lists. You can sort the values in the list, reverse the elements of the list, make the mutable or immutable, reference values from memory (use the `#`), slice the list (use the `:` operator), and even find the index of an elemt in the list (use `variable.index('element')`).\n",
    "\n",
    "Lists are incredibly useful, and they have many applications! You'll run into them a lot in your Python journey, get comfortable using them.\n",
    "\n",
    "Now that we've tinkered with lists, lets get back to for loops. Let's use a for loop to iterate over a list of prices and find out how much I spent on breakfast!"
   ]
  },
  {
   "cell_type": "code",
   "execution_count": null,
   "metadata": {},
   "outputs": [],
   "source": [
    "breakfast_item_prices = [0.99, 2.50, 0.50] # list of prices\n",
    "price_of_breakfast = 0\n",
    "\n",
    "for item in breakfast_item_prices:\n",
    "    price_of_breakfast += item\n",
    "    \n",
    "print(\"$\" + str(price_of_breakfast))"
   ]
  },
  {
   "cell_type": "code",
   "execution_count": null,
   "metadata": {},
   "outputs": [],
   "source": [
    "list_of_my_favorite_animals = ['Kangaroo', 'Cheetah', 'Giraffe', 'Penguin']\n",
    "\n",
    "for animal in list_of_my_favorite_animals:\n",
    "    print(\"I really like \" + animal + \"s.\")"
   ]
  },
  {
   "cell_type": "code",
   "execution_count": null,
   "metadata": {},
   "outputs": [],
   "source": [
    "# Lets use list indexing to extract elements from the list list_of_my_favorite_animals\n",
    "\n",
    "for i in range(len(list_of_my_favorite_animals)):\n",
    "    print(\"Index: \" + str(i))\n",
    "    print(list_of_my_favorite_animals[i] + '\\n')"
   ]
  },
  {
   "cell_type": "markdown",
   "metadata": {},
   "source": [
    "## Tuples\n",
    "\n",
    "Another data structure thats similar to the list is the tuple. A tuple is an *immutable* object while a list is a *mutable* object. To create a tuple object use paranthesis `()`, and we've seen lists use square brackets `[]`."
   ]
  },
  {
   "cell_type": "code",
   "execution_count": null,
   "metadata": {},
   "outputs": [],
   "source": [
    "apples = (\"Golden\", \"Red\", \"Fuji\", \"Granny\")\n",
    "type(apples)"
   ]
  },
  {
   "cell_type": "code",
   "execution_count": null,
   "metadata": {},
   "outputs": [],
   "source": [
    "# Call the first element in the tuple `apples`\n",
    "print(apples[0])\n",
    "\n",
    "# Call the first three elements in the tuple `apples`\n",
    "print(apples[0:3])\n",
    "\n",
    "# Can we change the first element of `apples` to 'Honeycrisp'?\n",
    "apples[0] = \"Honeycrisp\""
   ]
  },
  {
   "cell_type": "code",
   "execution_count": null,
   "metadata": {},
   "outputs": [],
   "source": [
    "# Cast a list to a tuple\n",
    "programming_languages = [\"Python\", \"C++\", \"Java\", \"JavaScript\"]\n",
    "print(type(programming_languages))\n",
    "\n",
    "programming_languages = tuple(programming_languages)\n",
    "print(type(programming_languages))"
   ]
  },
  {
   "cell_type": "code",
   "execution_count": null,
   "metadata": {},
   "outputs": [],
   "source": [
    "# Cast a tuple to a list\n",
    "print(type(programming_languages))\n",
    "\n",
    "programming_languages = list(programming_languages)\n",
    "print(type(programming_languages))\n",
    "\n",
    "# Lets try to change the first element of `programming_languages` to 'C#'\n",
    "programming_languages[0] = 'C#'\n",
    "\n",
    "programming_languages"
   ]
  },
  {
   "cell_type": "markdown",
   "metadata": {},
   "source": [
    "## Functions\n",
    "\n",
    "Functions are used to group code that gets executed multiple times. If you were to not use a function, you would have to paste the code each time you need it executed. To really understand what a function is, lets see it in practice.\n",
    "\n",
    "A function entails:\n",
    "- The `def` statement\n",
    "- The name of the function followed by ()\n",
    "- a colon\n",
    "- Starting on a new line and indented, the body of the function to execute (also called the function clause)"
   ]
  },
  {
   "cell_type": "code",
   "execution_count": null,
   "metadata": {},
   "outputs": [],
   "source": [
    "# Creating a function\n",
    "def hello():\n",
    "    print(\"Hello!\")"
   ]
  },
  {
   "cell_type": "markdown",
   "metadata": {},
   "source": [
    "Nothing has been outputted! That is because we haven't called the function yet, we have only created it and stored the function in memory. Lets call the function."
   ]
  },
  {
   "cell_type": "code",
   "execution_count": null,
   "metadata": {},
   "outputs": [],
   "source": [
    "hello()"
   ]
  },
  {
   "cell_type": "markdown",
   "metadata": {},
   "source": [
    "A function can take on multiple arguments. An argument is information that can be passed into a function. There is a very subtle difference between an argument and a parameter.\n",
    "\n",
    "A parameter is the variable listed inside the parentheses in the function definition.\n",
    "An argument is the value that are sent to the function when it is called.\n",
    "\n",
    "Lets edit the `hello()` function to include a parameter called `name`, that way we can include the persons name in the print statement. When I call the function, we'll pass our own name as an argument in the function.\n",
    "\n",
    "The `return` statement is exactly what you think it is. Once it is called, the interpreter exits the function and returns whatever value comes after the statement."
   ]
  },
  {
   "cell_type": "code",
   "execution_count": null,
   "metadata": {},
   "outputs": [],
   "source": [
    "def hello(name, age = 20):\n",
    "    hello_statement = \"Hello \" + name + \"! I am \" + str(age) + \" years old.\" \n",
    "    print(hello_statement)\n",
    "    \n",
    "hello(\"Amir\", 21)"
   ]
  },
  {
   "cell_type": "code",
   "execution_count": null,
   "metadata": {},
   "outputs": [],
   "source": [
    "# Function to return answer given an integer argument\n",
    "def getAnswer(answerNumber):\n",
    "    if answerNumber == 1:\n",
    "       return 'It is certain'\n",
    "    elif answerNumber == 2:\n",
    "       return 'It is decidedly so'\n",
    "    elif answerNumber == 3:\n",
    "       return 'Yes'\n",
    "    elif answerNumber == 4:\n",
    "       return 'Reply hazy try again'\n",
    "    elif answerNumber == 5:\n",
    "       return 'Ask again later'\n",
    "    elif answerNumber == 6:\n",
    "       return 'Concentrate and ask again'\n",
    "    elif answerNumber == 7:\n",
    "       return 'My reply is no'\n",
    "    elif answerNumber == 8:\n",
    "       return 'Outlook not so good'\n",
    "    elif answerNumber == 9:\n",
    "       return 'Very doubtful'"
   ]
  },
  {
   "cell_type": "code",
   "execution_count": null,
   "metadata": {},
   "outputs": [],
   "source": [
    "# Importing dependency\n",
    "import random\n",
    "\n",
    "r = random.randint(1, 9) # Getting a random number\n",
    "fortune = getAnswer(r) # Calling getAnswer function\n",
    "print(fortune) # Printing output"
   ]
  },
  {
   "cell_type": "markdown",
   "metadata": {},
   "source": [
    "### Breakout Room 2\n",
    "Can you write the function clause to call a response from a list of possible responses? This will reduce the length of the function. Remember readability counts!"
   ]
  },
  {
   "cell_type": "code",
   "execution_count": null,
   "metadata": {},
   "outputs": [],
   "source": [
    "possible_responses = ['It is certain',\n",
    "                      'It is decidedly so',\n",
    "                      'Yes',\n",
    "                      'Reply hazy try again',\n",
    "                      'Ask again later',\n",
    "                      'Concentrate and ask again',\n",
    "                      'My reply is no',\n",
    "                      'Outlook not so good',\n",
    "                      'Very doubtful']\n",
    "\n",
    "# getanswer function\n",
    "# ..."
   ]
  },
  {
   "cell_type": "code",
   "execution_count": null,
   "metadata": {},
   "outputs": [],
   "source": [
    "r = random.randint(1, 9) # Getting a random number\n",
    "fortune = getAnswer(r) # Calling getAnswer function\n",
    "print(fortune) # Printing output"
   ]
  },
  {
   "cell_type": "markdown",
   "metadata": {},
   "source": [
    "For those of you in CS 220 you might be learning about encryption and decryption. One cipher you learn about is the Shift Cypher, where you simply replace the letter with the letter n positions away. The function for the shift cipher is generally `f(p) = (p + k) % 26` where `p` is a specific letter in the string and `k` is a given key. Here is a Python function for the shift cypher."
   ]
  },
  {
   "cell_type": "code",
   "execution_count": null,
   "metadata": {},
   "outputs": [],
   "source": [
    "def shift_cipher_decrypt(coded_message, key):\n",
    "    coded_message = list(coded_message)\n",
    "    encrypted_message = ''\n",
    "    letters = \"A B C D E F G H I J K L M N O P Q R S T U V W X Y Z\"\n",
    "    letters = letters.split()\n",
    "    \n",
    "    for letter in coded_message:\n",
    "        if letter in letters:\n",
    "            x = letters.index(str(letter))\n",
    "            char = (x - key) % 26\n",
    "            encrypted_message += letters[char]\n",
    "            \n",
    "        else:\n",
    "            encrypted_message += ' '\n",
    "            \n",
    "    return print(encrypted_message)"
   ]
  },
  {
   "cell_type": "markdown",
   "metadata": {},
   "source": [
    "Consider the following message encrypted with a simple shift cipher: \"CKKZ SKNG\"\n",
    "Use the encryption key 100 to decode the message."
   ]
  },
  {
   "cell_type": "code",
   "execution_count": null,
   "metadata": {},
   "outputs": [],
   "source": [
    "shift_cipher_decrypt(\"CKKZ SKNG\", 100)"
   ]
  },
  {
   "cell_type": "markdown",
   "metadata": {},
   "source": [
    "Below is a Python function to encrypt messages with the shift cypher. To encrypt and decrypt the same message make sure your key is the same! These two functions might look intimidating, but its nothing we haven't already gone over. Go through each function line by line, and make sense of each. Now you're a programmer and a spy!"
   ]
  },
  {
   "cell_type": "code",
   "execution_count": null,
   "metadata": {},
   "outputs": [],
   "source": [
    "def shift_cipher_encrypt(coded_message, key):\n",
    "    coded_message = list(coded_message)\n",
    "    encrypted_message = ''\n",
    "    letters = \"A B C D E F G H I J K L M N O P Q R S T U V W X Y Z\"\n",
    "    letters = letters.split()\n",
    "    \n",
    "    for letter in coded_message:\n",
    "        if letter in letters:\n",
    "            x = letters.index(str(letter))\n",
    "            char = (x + key) % 26\n",
    "            encrypted_message += letters[char]\n",
    "            \n",
    "        else:\n",
    "            encrypted_message += ' '\n",
    "            \n",
    "    return print(encrypted_message)"
   ]
  },
  {
   "cell_type": "code",
   "execution_count": null,
   "metadata": {},
   "outputs": [],
   "source": [
    "shift_cipher_encrypt(\"GOOD WORK\", 100)"
   ]
  },
  {
   "cell_type": "markdown",
   "metadata": {},
   "source": [
    "## Dictionaries\n",
    "\n",
    "Like a list, a dictionary is a mutable collection of many values. But unlike indexes for lists, indexes for dictionaries can use many different data types, not just integers. Indexes for dictionaries are called keys, and a key with its associated value is called a key-value pair. To create a dictionary use curly brackets `{}`. Lets see a dictionary in action.\n",
    "\n",
    "Unlike lists, items in dictionaries are unordered. The first item in a list named spam would be spam[0]. But there is no “first” item in a dictionary. While the order of items matters for determining whether two lists are the same, it does not matter in what order the key-value pairs are typed in a dictionary. Therefore, because dictionaries are not ordered, they can’t be sliced like lists."
   ]
  },
  {
   "cell_type": "code",
   "execution_count": null,
   "metadata": {},
   "outputs": [],
   "source": [
    "# Creating a dictionary of kay-value pairs\n",
    "marins_cat = {'name':'Kiku', 'age':7, 'color':'white', 'status':'napping'}"
   ]
  },
  {
   "cell_type": "markdown",
   "metadata": {},
   "source": [
    "The dictionary `marins_cat` has four keys, 'name', 'age', 'color', and 'status'. Each key has a corresponding value. You can access these values via the keys."
   ]
  },
  {
   "cell_type": "code",
   "execution_count": null,
   "metadata": {},
   "outputs": [],
   "source": [
    "sentence = \"Marin's cat's name is \" + marins_cat['name'] + \". She is \" + marins_cat['age'] + \" years old and has \" + str(marins_cat['color']) + \" fur. She is currently \" + marins_cat['status'] + \"!\"\n",
    "\n",
    "print(sentence)"
   ]
  },
  {
   "cell_type": "markdown",
   "metadata": {},
   "source": [
    "There are three dictionary methods that will return list-like values of the dictionary’s keys, values, or both keys and values: keys(), values(), and items(). The values returned by these methods are not true lists: they cannot be modified and do not have an append() method. But these data types (dict_keys, dict_values, and dict_items, respectively) can be used in for loops."
   ]
  },
  {
   "cell_type": "code",
   "execution_count": null,
   "metadata": {},
   "outputs": [],
   "source": [
    "# printing keys in `marins_cat`\n",
    "for k in marins_cat.keys():\n",
    "    print(k)"
   ]
  },
  {
   "cell_type": "code",
   "execution_count": null,
   "metadata": {},
   "outputs": [],
   "source": [
    "# printing values in `marins_cat`\n",
    "for v in marins_cat.values():\n",
    "    print(v)"
   ]
  },
  {
   "cell_type": "code",
   "execution_count": null,
   "metadata": {},
   "outputs": [],
   "source": [
    "# printing items in `marins_cat`\n",
    "for i in marins_cat.items():\n",
    "    print(i)"
   ]
  },
  {
   "cell_type": "markdown",
   "metadata": {},
   "source": [
    "You can use the `in` and `not in` operators to check whether or not a value exists in a list. You can also use these operators to see whether a certain key or value exists in a disctionary. These operators will return a true or false value."
   ]
  },
  {
   "cell_type": "code",
   "execution_count": null,
   "metadata": {},
   "outputs": [],
   "source": [
    "'name' in marins_cat.keys()"
   ]
  },
  {
   "cell_type": "code",
   "execution_count": null,
   "metadata": {
    "scrolled": true
   },
   "outputs": [],
   "source": [
    "'name' not in marins_cat.values()"
   ]
  },
  {
   "cell_type": "markdown",
   "metadata": {},
   "source": [
    "It’s tedious to check whether a key exists in a dictionary before accessing that key’s value. Fortunately, dictionaries have a get() method that takes two arguments: the key of the value to retrieve and a fallback value to return if that key does not exist."
   ]
  },
  {
   "cell_type": "code",
   "execution_count": null,
   "metadata": {},
   "outputs": [],
   "source": [
    "picnicItems = {'apples': 5, 'cups': 2}\n",
    "\n",
    "'I am bringing ' + str(picnicItems.get('cups', 0)) + ' cups.'"
   ]
  },
  {
   "cell_type": "code",
   "execution_count": null,
   "metadata": {},
   "outputs": [],
   "source": [
    "'I am bringing ' + str(picnicItems.get('eggs', 0)) + ' eggs.'"
   ]
  },
  {
   "cell_type": "markdown",
   "metadata": {},
   "source": [
    "Because there is no 'eggs' key in the picnicItems dictionary, the default value 0 is returned by the get() method. Without using get(), the code would have caused an error message."
   ]
  }
 ],
 "metadata": {
  "kernelspec": {
   "display_name": "Python 3",
   "language": "python",
   "name": "python3"
  },
  "language_info": {
   "codemirror_mode": {
    "name": "ipython",
    "version": 3
   },
   "file_extension": ".py",
   "mimetype": "text/x-python",
   "name": "python",
   "nbconvert_exporter": "python",
   "pygments_lexer": "ipython3",
   "version": "3.8.5"
  }
 },
 "nbformat": 4,
 "nbformat_minor": 4
}
