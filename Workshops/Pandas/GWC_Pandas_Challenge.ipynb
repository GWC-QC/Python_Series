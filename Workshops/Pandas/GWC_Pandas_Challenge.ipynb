{
 "cells": [
  {
   "cell_type": "markdown",
   "metadata": {},
   "source": [
    "# GWC Pandas Challenge\n",
    "\n",
    "The best way to learn how to program is by working on projects. We'll be accessing the Spotify API in this challenge. I will supply the code to access a playlist and extract meta-data from it (which all can be found by Google-ing it). The Spotify-data exploration project is a fun one. You can take it a step forward and build recommendation engines on your apps, or regression/classification models (it has been done before, Google it). Just make sure you collect the enough training data. We access Playlists in this code, accessing your own liked songs is a little tricky but its possible. Also, you can only access your own liked songs (in case you plan on snooping on your friends music). So get a large training data set for a machine learning model simply get the Playlist ID for a massive playlist.\n",
    "\n",
    "\n",
    "## Extracting & Loading Your Spotify Playlists\n",
    "First we'll connect to the Spotify API, and collect data from a playlist of your choice. This is the same data Spotify uses to suggest new music to you. Go to the [Spotify Dashboard](https://developer.spotify.com/dashboard/login), login with your Spotify credentials, create a new app, and then copy your `Client ID` and `Client Secret` over into the appropriate variables below."
   ]
  },
  {
   "cell_type": "code",
   "execution_count": null,
   "metadata": {},
   "outputs": [],
   "source": [
    "# Importing dependencies\n",
    "import spotipy\n",
    "from spotipy.oauth2 import SpotifyClientCredentials\n",
    "from spotipy.oauth2 import SpotifyOAuth\n",
    "import os\n",
    "import numpy as np\n",
    "import pandas as pd\n",
    "\n",
    "client_id = '' # Fill this in\n",
    "client_secret = '' # Fill this in\n",
    "\n",
    "client_credentials_manager = SpotifyClientCredentials(client_id=client_id, client_secret=client_secret)\n",
    "sp = spotipy.Spotify(client_credentials_manager = client_credentials_manager)\n",
    "\n",
    "# Enter your Spotify username\n",
    "username = \"\" # Fill this in"
   ]
  },
  {
   "cell_type": "code",
   "execution_count": null,
   "metadata": {},
   "outputs": [],
   "source": [
    "# Get your playlists\n",
    "playlists = sp.user_playlists(username)\n",
    "while playlists:\n",
    "    for i, playlist in enumerate(playlists['items']):\n",
    "        print(\"%4d %s %s\" % (i + 1 + playlists['offset'], playlist['uri'],  playlist['name']))\n",
    "    if playlists['next']:\n",
    "        playlists = sp.next(playlists)\n",
    "    else:\n",
    "        playlists = None"
   ]
  },
  {
   "cell_type": "markdown",
   "metadata": {},
   "source": [
    "https://open.spotify.com/playlist/7jyUrsgKKFp6YP2Y2FpaH?si=a98d2f726ab4b0e\n",
    "\n",
    "Go to your Spotify, and pick a playlist that you'd like to explore! Get the link to your playlist, which can be found by pressing the three dots, going to `share` on the drop down and clicking `Copy link to playlist`. You can choose of yours if you'd like, or any playlist out there. Above is a link to one of my playlists, I edited the URL for privacy. Starting from the `7` after the `/`, and ending at the `H` before the `?` is the playlist ID. Extract the Playlist ID and paste that string of characters into the code below to access the playlist.\n",
    "\n",
    "The output below looks like a bunch of giberish, but that is how JSON files look raw! Notice how the data is packaged as a Python dictionary. I will supply the code to organize the data."
   ]
  },
  {
   "cell_type": "code",
   "execution_count": null,
   "metadata": {},
   "outputs": [],
   "source": [
    "playlist_id = ''\n",
    "\n",
    "results = sp.user_playlist(username, playlist_id, 'tracks')\n",
    "results"
   ]
  },
  {
   "cell_type": "code",
   "execution_count": null,
   "metadata": {},
   "outputs": [],
   "source": [
    "# Extracting Metadata from the Playlist\n",
    "def extracting_metadata(results):\n",
    "    playlist_tracks_data = results['tracks']\n",
    "    playlist_tracks_id = []\n",
    "    playlist_tracks_titles = []\n",
    "    playlist_tracks_artists = []\n",
    "    playlist_tracks_first_artists = []\n",
    "    playlist_tracks_first_release_date = []\n",
    "    playlist_tracks_popularity = []\n",
    "\n",
    "    \n",
    "    for track in playlist_tracks_data['items']:\n",
    "        playlist_tracks_id.append(track['track']['id'])\n",
    "        playlist_tracks_titles.append(track['track']['name'])\n",
    "        playlist_tracks_first_release_date.append(track['track']['album']['release_date'])\n",
    "        playlist_tracks_popularity.append(track['track']['popularity'])\n",
    "        # adds a list of all artists involved in the song to the list of artists for the playlist\n",
    "        artist_list = []\n",
    "        for artist in track['track']['artists']:\n",
    "            artist_list.append(artist['name'])\n",
    "        playlist_tracks_artists.append(artist_list)\n",
    "        playlist_tracks_first_artists.append(artist_list[0])\n",
    "\n",
    "    \n",
    "    features = sp.audio_features(playlist_tracks_id)\n",
    "    features_df = pd.DataFrame(data=features, columns=features[0].keys())\n",
    "    features_df['title'] = playlist_tracks_titles\n",
    "    features_df['first_artist'] = playlist_tracks_first_artists\n",
    "    features_df['all_artists'] = playlist_tracks_artists\n",
    "    features_df['popularity'] = playlist_tracks_popularity\n",
    "    features_df['release_date'] = playlist_tracks_first_release_date\n",
    "    #features_df = features_df.set_index('id')\n",
    "    features_df = features_df[['id', 'title', 'first_artist', 'all_artists', 'popularity', 'release_date',\n",
    "                               'danceability', 'energy', 'key', 'loudness',\n",
    "                               'mode', 'acousticness', 'instrumentalness',\n",
    "                               'liveness', 'valence', 'tempo',\n",
    "                               'duration_ms', 'time_signature']]\n",
    "    \n",
    "    return features_df\n",
    "\n",
    "features_df = extracting_metadata(results)\n",
    "features_df.head()"
   ]
  },
  {
   "cell_type": "code",
   "execution_count": null,
   "metadata": {},
   "outputs": [],
   "source": [
    "# [easy] Use the `.describe()` method on the dataframe\n",
    "# ..."
   ]
  },
  {
   "cell_type": "markdown",
   "metadata": {},
   "source": [
    "## Data Exploration\n",
    "\n",
    "How exciting! We have your playlist loaded up into memory, and we have a lot of metadata to work with. Thankfully, Spotify automates the calculations for their features, so they have no missing data, still it doesn't hurt to double check."
   ]
  },
  {
   "cell_type": "code",
   "execution_count": null,
   "metadata": {},
   "outputs": [],
   "source": [
    "# [easy] Check to see if there is any missing data in the dataframe\n",
    "# ...\n"
   ]
  },
  {
   "cell_type": "code",
   "execution_count": null,
   "metadata": {},
   "outputs": [],
   "source": [
    "# [easy] Run the `decribe()` method on your dataframe\n",
    "# ...\n"
   ]
  },
  {
   "cell_type": "code",
   "execution_count": null,
   "metadata": {},
   "outputs": [],
   "source": [
    "# [intermediate] Run a for loop to find the average of each numeric feature and save it to the appropriate variable\n",
    "# Save each variable to a dictionary in the form of a key:value pair\n",
    "# ...\n"
   ]
  },
  {
   "cell_type": "code",
   "execution_count": null,
   "metadata": {},
   "outputs": [],
   "source": [
    "# [intermediate] Filter the dataframe to an artist of your choice\n",
    "# ...\n",
    "\n",
    "\n",
    "# Filter the dataframe for another artist of your choice\n",
    "# ...\n",
    "\n",
    "\n",
    "# Use `.describe()` on both. Do you think the metrics agree with their style?\n",
    "# ...\n"
   ]
  },
  {
   "cell_type": "code",
   "execution_count": null,
   "metadata": {},
   "outputs": [],
   "source": [
    "# [hard] Create a dataframe where every row is a unique artist and their \n",
    "# values in the corresponding columns are their averages.\n",
    "# ..."
   ]
  },
  {
   "cell_type": "code",
   "execution_count": null,
   "metadata": {},
   "outputs": [],
   "source": [
    "# [intermediate] Find the top 10 most dancable songs on your playlist\n",
    "# ...\n",
    "\n",
    "# [Extra Credit] Share your top 10 most dancable songs with GWC"
   ]
  },
  {
   "cell_type": "code",
   "execution_count": null,
   "metadata": {},
   "outputs": [],
   "source": [
    "# [intermediate] Find the correlation between `popularity` and `dancability`\n",
    "# ...\n",
    "\n",
    "# Find the correlation between `popularity` and `energy`\n",
    "# ...\n",
    "\n",
    "# Find the correlation between `energy` and `tempo`\n",
    "# ..."
   ]
  },
  {
   "cell_type": "code",
   "execution_count": null,
   "metadata": {},
   "outputs": [],
   "source": [
    "# [intermediate]\n",
    "# The `duration_ms` column is in units of milliseconds. Covnvert it to seconds.\n",
    "# ...\n",
    "\n",
    "# Convert it to minutes:seconds format.\n",
    "# ..."
   ]
  },
  {
   "cell_type": "markdown",
   "metadata": {},
   "source": [
    "## Data Visualization\n",
    "\n",
    "Numbers and statistics are nice, but who doesn't love a beautiful visualization. Try your hand at some visualizations! You might have to pip install and import some Python Visualization libraries. Get creative! \n",
    "\n",
    "Here is a link to the [EVERY SONG ever basically](https://open.spotify.com/playlist/0LEbhcWqOsiIlQn9HHVN4S?si=f757a27cd3bc4e43). We'll use it to create some cool visualizations, but of course, you can use any playlist you want.\n",
    "\n",
    "The `get_playlist_tracks_more_than_100_songs` function exists because the regular function only returns metadata for a limit of 100 songs, and not for all the songs in a playlist. I built the function below so that we may extract all of the metadata for all songs in a playlist. It takes a few minutes to finish running. If you think you can build a more graceful function, by all means, try your hand.\n",
    "\n",
    "If you want to extract MetaData from a playlist that has more than 100 songs, use the function below and pass in your username and playlist ID."
   ]
  },
  {
   "cell_type": "code",
   "execution_count": null,
   "metadata": {
    "scrolled": true
   },
   "outputs": [],
   "source": [
    "# Function to extract MetaData from a playlist thats longer than 100 songs\n",
    "def get_playlist_tracks_more_than_100_songs(username, playlist_id):\n",
    "    results = sp.user_playlist_tracks(username,playlist_id)\n",
    "    tracks = results['items']\n",
    "    while results['next']:\n",
    "        results = sp.next(results)\n",
    "        tracks.extend(results['items'])\n",
    "    results = tracks    \n",
    "\n",
    "    playlist_tracks_id = []\n",
    "    playlist_tracks_titles = []\n",
    "    playlist_tracks_artists = []\n",
    "    playlist_tracks_first_artists = []\n",
    "    playlist_tracks_first_release_date = []\n",
    "    playlist_tracks_popularity = []\n",
    "\n",
    "    for i in range(len(results)):\n",
    "        print(i) # Counter\n",
    "        if i == 0:\n",
    "            playlist_tracks_id = results[i]['track']['id']\n",
    "            playlist_tracks_titles = results[i]['track']['name']\n",
    "            playlist_tracks_first_release_date = results[i]['track']['album']['release_date']\n",
    "            playlist_tracks_popularity = results[i]['track']['popularity']\n",
    "\n",
    "            artist_list = []\n",
    "            for artist in results[i]['track']['artists']:\n",
    "                artist_list= artist['name']\n",
    "            playlist_tracks_artists = artist_list\n",
    "\n",
    "            features = sp.audio_features(playlist_tracks_id)\n",
    "            features_df = pd.DataFrame(data=features, columns=features[0].keys())\n",
    "            features_df['title'] = playlist_tracks_titles\n",
    "            features_df['all_artists'] = playlist_tracks_artists\n",
    "            features_df['popularity'] = playlist_tracks_popularity\n",
    "            features_df['release_date'] = playlist_tracks_first_release_date\n",
    "            features_df = features_df[['id', 'title', 'all_artists', 'popularity', 'release_date',\n",
    "                                       'danceability', 'energy', 'key', 'loudness',\n",
    "                                       'mode', 'acousticness', 'instrumentalness',\n",
    "                                       'liveness', 'valence', 'tempo',\n",
    "                                       'duration_ms', 'time_signature']]\n",
    "            continue\n",
    "        else:\n",
    "            try:\n",
    "                playlist_tracks_id = results[i]['track']['id']\n",
    "                playlist_tracks_titles = results[i]['track']['name']\n",
    "                playlist_tracks_first_release_date = results[i]['track']['album']['release_date']\n",
    "                playlist_tracks_popularity = results[i]['track']['popularity']\n",
    "                artist_list = []\n",
    "                for artist in results[i]['track']['artists']:\n",
    "                    artist_list= artist['name']\n",
    "                playlist_tracks_artists = artist_list\n",
    "                features = sp.audio_features(playlist_tracks_id)\n",
    "                new_row = {'id':[playlist_tracks_id],\n",
    "               'title':[playlist_tracks_titles],\n",
    "               'all_artists':[playlist_tracks_artists],\n",
    "               'popularity':[playlist_tracks_popularity],\n",
    "               'release_date':[playlist_tracks_first_release_date],\n",
    "               'danceability':[features[0]['danceability']],\n",
    "               'energy':[features[0]['energy']],\n",
    "               'key':[features[0]['key']],\n",
    "               'loudness':[features[0]['loudness']],\n",
    "               'mode':[features[0]['mode']],\n",
    "               'acousticness':[features[0]['acousticness']],\n",
    "               'instrumentalness':[features[0]['instrumentalness']],\n",
    "               'liveness':[features[0]['liveness']],\n",
    "               'valence':[features[0]['valence']],\n",
    "               'tempo':[features[0]['tempo']],\n",
    "               'duration_ms':[features[0]['duration_ms']],\n",
    "               'time_signature':[features[0]['time_signature']]\n",
    "               }\n",
    "\n",
    "                dfs = [features_df, pd.DataFrame(new_row)]\n",
    "                features_df = pd.concat(dfs, ignore_index = True)\n",
    "            except:\n",
    "                continue\n",
    "                \n",
    "    return features_df"
   ]
  },
  {
   "cell_type": "code",
   "execution_count": null,
   "metadata": {},
   "outputs": [],
   "source": [
    "# Extracting metadata for the `EVERY SONG ever basically` playlist\n",
    "playlist_id_for_every_song_ever = '0LEbhcWqOsiIlQn9HHVN4S'\n",
    "\n",
    "every_song_basically_ever_df = get_playlist_tracks_more_than_100_songs(username, playlist_id_for_every_song_ever)"
   ]
  },
  {
   "cell_type": "markdown",
   "metadata": {},
   "source": [
    "**Super Hard** *Good luck*\n",
    "\n",
    "You will have to read up on documentation and experiment with different approaches to complete this challenge.\n",
    "\n",
    "- Create a new column called `first_artist` where you take the first artist in the `all_artists` column and store the value there\n",
    "- Create a new Dataframe where each index is a unique artist and the values under the columns represent their corresponding averages of all the songs in the `every_song_basically_ever_df` DataFrame.\n",
    "- Sort this new DataFrame based on Popularity\n",
    "- Filter for only the top 10 artists based on Popularity\n",
    "- Create a Bar Chart with the artists name on the x-axis and their popularity on the y-axis.\n",
    "- Create the same Bar Chart but now each artist has two corresponding columns, popularity, and another metric of your choice.\n",
    "- If you've gotten this far please hydrate and take a break! You deserve it.\n"
   ]
  },
  {
   "cell_type": "code",
   "execution_count": null,
   "metadata": {},
   "outputs": [],
   "source": [
    "# ..."
   ]
  },
  {
   "cell_type": "code",
   "execution_count": null,
   "metadata": {},
   "outputs": [],
   "source": [
    "# [hard] Create a Radar Chart with one of the artists metrics\n",
    "# ..."
   ]
  },
  {
   "cell_type": "code",
   "execution_count": null,
   "metadata": {},
   "outputs": [],
   "source": [
    "# [hard] Create a Radar Chart with another artists metrics, make sure their the same metrics\n",
    "# ..."
   ]
  },
  {
   "cell_type": "code",
   "execution_count": null,
   "metadata": {},
   "outputs": [],
   "source": [
    "# [hard] Overlay the Radar Charts\n",
    "# ..."
   ]
  },
  {
   "cell_type": "code",
   "execution_count": null,
   "metadata": {},
   "outputs": [],
   "source": [
    "# [hard] Create a Pearson's r correlation chart with the numeric categories\n",
    "# ..."
   ]
  },
  {
   "cell_type": "markdown",
   "metadata": {},
   "source": [
    "## GWC Visualization Competition\n",
    "\n",
    "Pick any playlist, collect your data, and make the coolest visualization!\n",
    "Once you do, post it to the **GWC Discord Server** under the `workshop-chat` channel!\n",
    "\n",
    "You don't have to stick to Python. Check out Tableau or Power BI!"
   ]
  },
  {
   "cell_type": "code",
   "execution_count": null,
   "metadata": {},
   "outputs": [],
   "source": [
    "# ..."
   ]
  },
  {
   "cell_type": "markdown",
   "metadata": {},
   "source": [
    "## Pandas Profiling\n",
    "\n",
    "Need to make a dashboard on the fly? Pandas Profiling is certainly the way to go. It's really easy to use, and it generate profile reports on the fly that can be saved as .html files!\n",
    "\n",
    "Here's some documentation: https://pypi.org/project/pandas-profiling/\n",
    "\n",
    "Try it yourself!"
   ]
  },
  {
   "cell_type": "code",
   "execution_count": null,
   "metadata": {},
   "outputs": [],
   "source": [
    "# Importing dependencies\n",
    "import sys\n",
    "\n",
    "!{sys.executable} -m pip install -U pandas-profiling[notebook]\n",
    "!jupyter nbextension enable --py widgetsnbextension\n",
    "\n",
    "from pathlib import Path\n",
    "\n",
    "import numpy as np\n",
    "import pandas as pd\n",
    "import requests\n",
    "\n",
    "import pandas_profiling\n",
    "from pandas_profiling.utils.cache import cache_file"
   ]
  },
  {
   "cell_type": "code",
   "execution_count": null,
   "metadata": {},
   "outputs": [],
   "source": [
    "profile_report = every_song_basically_ever_df.profile_report(html={\"style\": {\"full_width\": True}}, explorative=True)\n",
    "profile_report.to_file(\"Every_Song_Basically_Ever_Playlist.html\")"
   ]
  }
 ],
 "metadata": {
  "kernelspec": {
   "display_name": "Python 3",
   "language": "python",
   "name": "python3"
  },
  "language_info": {
   "codemirror_mode": {
    "name": "ipython",
    "version": 3
   },
   "file_extension": ".py",
   "mimetype": "text/x-python",
   "name": "python",
   "nbconvert_exporter": "python",
   "pygments_lexer": "ipython3",
   "version": "3.8.5"
  }
 },
 "nbformat": 4,
 "nbformat_minor": 4
}
